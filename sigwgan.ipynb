{
 "cells": [
  {
   "cell_type": "markdown",
   "metadata": {},
   "source": [
    "### Necessary import"
   ]
  },
  {
   "cell_type": "code",
   "execution_count": 1,
   "metadata": {},
   "outputs": [],
   "source": [
    "import os\n",
    "import numpy as np\n",
    "from collections import defaultdict\n",
    "import torch\n",
    "import torch.nn as nn\n",
    "from tqdm import tqdm\n",
    "import matplotlib.pyplot as plt\n",
    "\n",
    "from lib.model.base import Base\n",
    "from lib.utils import set_seed,sample_indices,get_sigwgan_experiment_dir,to_numpy\n",
    "from lib.augmentations import apply_augmentations\n",
    "from lib.distance.sigw1metric import SigW1Metric\n",
    "from lib.datasets import get_stock_price, train_test_split\n",
    "from lib.network import get_generator, get_discriminator\n",
    "from lib.test_metrics import get_standard_test_metrics\n",
    "from lib.plot import plot_test_metrics"
   ]
  },
  {
   "cell_type": "markdown",
   "metadata": {},
   "source": [
    "### Hyperparameter"
   ]
  },
  {
   "cell_type": "code",
   "execution_count": 2,
   "metadata": {},
   "outputs": [
    {
     "name": "stdout",
     "output_type": "stream",
     "text": [
      "cuda:0\n"
     ]
    }
   ],
   "source": [
    "sigwgan_config = {\n",
    "    \"batch_size\": 8,\n",
    "    \"epoch\": 256,\n",
    "    \"depth\": 4,\n",
    "    \"lr_generator\": 5e-5,\n",
    "    \"lr_discriminator\" : 5e-5,\n",
    "    \"augmentations\": [\n",
    "        {\"name\":  \"LeadLag\"},\n",
    "    ],\n",
    "    \"device\" : 'cuda:0' if torch.cuda.is_available() else 'cpu',\n",
    "}\n",
    "data_config = {\n",
    "    'ticker' : '^GSPC',\n",
    "    'interval' : '1mo',\n",
    "    'column' : 0,  #Open\n",
    "    'window_size' : 3,\n",
    "    'dir' : 'datasets',\n",
    "    'subdir' : 'stock',\n",
    "}\n",
    "D_config = {\n",
    "    \"discriminator_type\": \"ResFNN\",\n",
    "    \"hidden_dims\": [20,20],\n",
    "}\n",
    "G_config = {\n",
    "    \"generator_type\": \"LogSigRNN\",\n",
    "    \"hidden_dim\": 50,\n",
    "    \"augmentations\": [\n",
    "        {\"name\":  \"LeadLag\"},\n",
    "    ],\n",
    "    \"depth\": 4,\n",
    "    \"input_dim\": 3,\n",
    "    \"len_noise\": 1000,\n",
    "    \"len_interval_u\": 50,\n",
    "    \"init_fixed\": True\n",
    "}\n",
    "print(sigwgan_config['device'])\n",
    "\n",
    "set_seed(2024)"
   ]
  },
  {
   "cell_type": "markdown",
   "metadata": {},
   "source": [
    "### Load data"
   ]
  },
  {
   "cell_type": "code",
   "execution_count": 3,
   "metadata": {},
   "outputs": [
    {
     "name": "stdout",
     "output_type": "stream",
     "text": [
      "Rolled data for training, shape torch.Size([286, 3, 1])\n",
      "Total data:  [286, 3, 1]\n",
      "D input dim: 3\n",
      "G output dim: 1\n"
     ]
    }
   ],
   "source": [
    "x_real_rolled = get_stock_price(data_config)\n",
    "x_real_rolled = x_real_rolled.to(sigwgan_config['device'])\n",
    "print('Total data: ', list(x_real_rolled.shape))\n",
    "\n",
    "x_real_train, x_real_test = train_test_split(x_real_rolled, train_test_ratio=0.8, device=sigwgan_config['device'])\n",
    "x_real_dim: int = x_real_rolled.shape[2]\n",
    "wgan_input_dim = x_real_dim * data_config['window_size']\n",
    "\n",
    "print(\"D input dim: {}\".format(wgan_input_dim)) # D output dim is always 1\n",
    "print(\"G output dim: {}\".format(x_real_dim)) "
   ]
  },
  {
   "cell_type": "markdown",
   "metadata": {},
   "source": [
    "### SigWGAN"
   ]
  },
  {
   "cell_type": "code",
   "execution_count": 4,
   "metadata": {},
   "outputs": [],
   "source": [
    "from lib.model.base import Base\n",
    "from copy import deepcopy\n",
    "\n",
    "class SigWGAN(nn.Module): # lib\\trainers\\sig_wgan.py\n",
    "    def __init__(self, D, G, lr_generator, lr_discriminator, epoch, batch_size, depth, x_real_rolled, augmentations, normalise_sig: bool = True, mask_rate=0.01,\n",
    "                 **kwargs):\n",
    "        super(SigWGAN, self).__init__()\n",
    "        self.sig_w1_metric = SigW1Metric(depth=depth, x_real=x_real_rolled, augmentations=augmentations,\n",
    "                                         mask_rate=mask_rate, normalise=normalise_sig)\n",
    "        self.D = D\n",
    "        self.G = G\n",
    "\n",
    "        self.lr_generator = lr_generator\n",
    "        self.lr_discriminator = lr_discriminator\n",
    "        self.epoch = epoch\n",
    "        self.batch_size = batch_size\n",
    "        self.depth = depth\n",
    "        self.augmentations = augmentations\n",
    "\n",
    "        self.G_optimizer = torch.optim.Adam(self.G.parameters(), lr=self.lr_generator)\n",
    "        self.D_optimizer = torch.optim.Adam(self.D.parameters(), lr=self.lr_discriminator, betas=(0, 0.9))\n",
    "        self.scheduler = torch.optim.lr_scheduler.StepLR(optimizer=self.G_optimizer, gamma=0.95, step_size=128)\n",
    "\n",
    "        self.losses_history = defaultdict(list)\n",
    "\n",
    "    def fit(self, device):\n",
    "        self.G.to(device)\n",
    "        best_loss = 10**10\n",
    "        pbar = tqdm(range(self.epoch))\n",
    "        for j in pbar:\n",
    "            self.G_optimizer.zero_grad()\n",
    "            x_fake = self.G(\n",
    "                batch_size=self.batch_size, n_lags=self.sig_w1_metric.window_size, device=device\n",
    "            )\n",
    "            loss = self.sig_w1_metric(x_fake)  # E[S(x_real)] - E[S(X_fake)]\n",
    "            loss.backward()\n",
    "            best_loss = loss.item() if j == 0 else best_loss\n",
    "\n",
    "            pbar.set_description(\"sig-w1 loss: {:1.6e}\".format(loss.item()))\n",
    "            self.G_optimizer.step()\n",
    "            self.scheduler.step()\n",
    "            self.losses_history['sig_w1_loss'].append(loss.item())\n",
    "            self.evaluate(x_fake)\n",
    "\n",
    "            if loss < best_loss:\n",
    "               best_G = deepcopy(self.G.state_dict())\n",
    "               best_loss = loss\n",
    "\n",
    "        self.G.load_state_dict(best_G)  # retrieve the best generator\n",
    "    def evaluate(self, x_fake):\n",
    "        # self.losses_history['time'].append(time.time() - self.init_time)\n",
    "        with torch.no_grad():\n",
    "            for test_metric in self.test_metrics_train:\n",
    "                test_metric(x_fake)\n",
    "                loss = to_numpy(test_metric.loss_componentwise)\n",
    "                if len(loss.shape) == 1:\n",
    "                    loss = loss[..., None]\n",
    "                self.losses_history[test_metric.name + '_train'].append(loss)\n",
    "            for test_metric in self.test_metrics_test:\n",
    "                test_metric(x_fake)\n",
    "                loss = to_numpy(test_metric.loss_componentwise)\n",
    "                if len(loss.shape) == 1:\n",
    "                    loss = loss[..., None]\n",
    "                self.losses_history[test_metric.name + '_test'].append(loss)"
   ]
  },
  {
   "cell_type": "markdown",
   "metadata": {},
   "source": [
    "### Set discriminator and generator"
   ]
  },
  {
   "cell_type": "code",
   "execution_count": 5,
   "metadata": {},
   "outputs": [
    {
     "name": "stdout",
     "output_type": "stream",
     "text": [
      "{'discriminator_type': 'ResFNN', 'hidden_dims': [20, 20], 'input_dim': 3}\n",
      "{'generator_type': 'LogSigRNN', 'hidden_dim': 50, 'augmentations': [{'name': 'LeadLag'}], 'depth': 4, 'input_dim': 3, 'len_noise': 1000, 'len_interval_u': 50, 'init_fixed': True, 'output_dim': 1}\n"
     ]
    },
    {
     "ename": "AttributeError",
     "evalue": "'dict' object has no attribute 'apply'",
     "output_type": "error",
     "traceback": [
      "\u001b[0;31m---------------------------------------------------------------------------\u001b[0m",
      "\u001b[0;31mAttributeError\u001b[0m                            Traceback (most recent call last)",
      "Cell \u001b[0;32mIn[5], line 7\u001b[0m\n\u001b[1;32m      4\u001b[0m \u001b[38;5;28mprint\u001b[39m(G_config)\n\u001b[1;32m      6\u001b[0m D \u001b[38;5;241m=\u001b[39m get_discriminator(\u001b[38;5;241m*\u001b[39m\u001b[38;5;241m*\u001b[39mD_config)\u001b[38;5;241m.\u001b[39mto(sigwgan_config[\u001b[38;5;124m'\u001b[39m\u001b[38;5;124mdevice\u001b[39m\u001b[38;5;124m'\u001b[39m])\n\u001b[0;32m----> 7\u001b[0m G \u001b[38;5;241m=\u001b[39m \u001b[43mget_generator\u001b[49m\u001b[43m(\u001b[49m\u001b[38;5;241;43m*\u001b[39;49m\u001b[38;5;241;43m*\u001b[39;49m\u001b[43mG_config\u001b[49m\u001b[43m)\u001b[49m\u001b[38;5;241m.\u001b[39mto(sigwgan_config[\u001b[38;5;124m'\u001b[39m\u001b[38;5;124mdevice\u001b[39m\u001b[38;5;124m'\u001b[39m])\n",
      "File \u001b[0;32m~/Desktop/mlgroup/Signature GAN/lib/network/__init__.py:9\u001b[0m, in \u001b[0;36mget_generator\u001b[0;34m(generator_type, input_dim, output_dim, **kwargs)\u001b[0m\n\u001b[1;32m      8\u001b[0m \u001b[38;5;28;01mdef\u001b[39;00m \u001b[38;5;21mget_generator\u001b[39m(generator_type, input_dim, output_dim, \u001b[38;5;241m*\u001b[39m\u001b[38;5;241m*\u001b[39mkwargs):\n\u001b[0;32m----> 9\u001b[0m     \u001b[38;5;28;01mreturn\u001b[39;00m \u001b[43mGENERATORS\u001b[49m\u001b[43m[\u001b[49m\u001b[43mgenerator_type\u001b[49m\u001b[43m]\u001b[49m\u001b[43m(\u001b[49m\u001b[43minput_dim\u001b[49m\u001b[38;5;241;43m=\u001b[39;49m\u001b[43minput_dim\u001b[49m\u001b[43m,\u001b[49m\u001b[43m \u001b[49m\u001b[43moutput_dim\u001b[49m\u001b[38;5;241;43m=\u001b[39;49m\u001b[43moutput_dim\u001b[49m\u001b[43m,\u001b[49m\u001b[43m \u001b[49m\u001b[38;5;241;43m*\u001b[39;49m\u001b[38;5;241;43m*\u001b[39;49m\u001b[43mkwargs\u001b[49m\u001b[43m)\u001b[49m\n",
      "File \u001b[0;32m~/Desktop/mlgroup/Signature GAN/lib/network/generators.py:125\u001b[0m, in \u001b[0;36mLogSigRNNGenerator.__init__\u001b[0;34m(self, input_dim, output_dim, augmentations, depth, hidden_dim, len_noise, len_interval_u, init_fixed)\u001b[0m\n\u001b[1;32m    121\u001b[0m \u001b[38;5;28;01mdef\u001b[39;00m \u001b[38;5;21m__init__\u001b[39m(\u001b[38;5;28mself\u001b[39m, input_dim, output_dim, augmentations, depth, hidden_dim, len_noise\u001b[38;5;241m=\u001b[39m\u001b[38;5;241m1000\u001b[39m,\n\u001b[1;32m    122\u001b[0m              len_interval_u\u001b[38;5;241m=\u001b[39m\u001b[38;5;241m50\u001b[39m, init_fixed: \u001b[38;5;28mbool\u001b[39m \u001b[38;5;241m=\u001b[39m \u001b[38;5;28;01mTrue\u001b[39;00m):\n\u001b[1;32m    124\u001b[0m     \u001b[38;5;28msuper\u001b[39m(LogSigRNNGenerator, \u001b[38;5;28mself\u001b[39m)\u001b[38;5;241m.\u001b[39m\u001b[38;5;21m__init__\u001b[39m(input_dim, output_dim)\n\u001b[0;32m--> 125\u001b[0m     input_dim_rnn \u001b[38;5;241m=\u001b[39m \u001b[43mget_number_of_channels_after_augmentations\u001b[49m\u001b[43m(\u001b[49m\u001b[43minput_dim\u001b[49m\u001b[43m,\u001b[49m\u001b[43m \u001b[49m\u001b[43maugmentations\u001b[49m\u001b[43m)\u001b[49m\n\u001b[1;32m    127\u001b[0m     logsig_channels \u001b[38;5;241m=\u001b[39m signatory\u001b[38;5;241m.\u001b[39mlogsignature_channels(in_channels\u001b[38;5;241m=\u001b[39minput_dim_rnn, depth\u001b[38;5;241m=\u001b[39mdepth)\n\u001b[1;32m    129\u001b[0m     \u001b[38;5;28mself\u001b[39m\u001b[38;5;241m.\u001b[39mdepth \u001b[38;5;241m=\u001b[39m depth\n",
      "File \u001b[0;32m~/Desktop/mlgroup/Signature GAN/lib/augmentations.py:45\u001b[0m, in \u001b[0;36mget_number_of_channels_after_augmentations\u001b[0;34m(input_dim, augmentations)\u001b[0m\n\u001b[1;32m     43\u001b[0m \u001b[38;5;28;01mdef\u001b[39;00m \u001b[38;5;21mget_number_of_channels_after_augmentations\u001b[39m(input_dim, augmentations):\n\u001b[1;32m     44\u001b[0m     x \u001b[38;5;241m=\u001b[39m torch\u001b[38;5;241m.\u001b[39mzeros(\u001b[38;5;241m1\u001b[39m, \u001b[38;5;241m10\u001b[39m, input_dim)\n\u001b[0;32m---> 45\u001b[0m     y \u001b[38;5;241m=\u001b[39m \u001b[43mapply_augmentations\u001b[49m\u001b[43m(\u001b[49m\u001b[43mx\u001b[49m\u001b[43m,\u001b[49m\u001b[43m \u001b[49m\u001b[43maugmentations\u001b[49m\u001b[43m)\u001b[49m\n\u001b[1;32m     46\u001b[0m     \u001b[38;5;28;01mreturn\u001b[39;00m y\u001b[38;5;241m.\u001b[39mshape[\u001b[38;5;241m-\u001b[39m\u001b[38;5;241m1\u001b[39m]\n",
      "File \u001b[0;32m~/Desktop/mlgroup/Signature GAN/lib/augmentations.py:75\u001b[0m, in \u001b[0;36mapply_augmentations\u001b[0;34m(x, augmentations)\u001b[0m\n\u001b[1;32m     73\u001b[0m y \u001b[38;5;241m=\u001b[39m x\u001b[38;5;241m.\u001b[39mclone()\n\u001b[1;32m     74\u001b[0m \u001b[38;5;28;01mfor\u001b[39;00m augmentation \u001b[38;5;129;01min\u001b[39;00m augmentations:\n\u001b[0;32m---> 75\u001b[0m     y \u001b[38;5;241m=\u001b[39m \u001b[43maugmentation\u001b[49m\u001b[38;5;241;43m.\u001b[39;49m\u001b[43mapply\u001b[49m(y)\n\u001b[1;32m     76\u001b[0m \u001b[38;5;28;01mreturn\u001b[39;00m y\n",
      "\u001b[0;31mAttributeError\u001b[0m: 'dict' object has no attribute 'apply'"
     ]
    }
   ],
   "source": [
    "D_config.update(input_dim=wgan_input_dim)\n",
    "print(D_config)\n",
    "G_config.update(output_dim=x_real_dim)\n",
    "print(G_config)\n",
    "\n",
    "D = get_discriminator(**D_config).to(sigwgan_config['device'])\n",
    "G = get_generator(**G_config).to(sigwgan_config['device'])"
   ]
  },
  {
   "cell_type": "code",
   "execution_count": null,
   "metadata": {},
   "outputs": [
    {
     "name": "stdout",
     "output_type": "stream",
     "text": [
      "[SigW1Loss()]\n",
      "[SigW1Loss()]\n"
     ]
    }
   ],
   "source": [
    "test_metrics_train = get_standard_test_metrics(x_real_train)\n",
    "test_metrics_test = get_standard_test_metrics(x_real_test)\n",
    "\n",
    "print(test_metrics_train)\n",
    "print(test_metrics_test)"
   ]
  },
  {
   "cell_type": "code",
   "execution_count": null,
   "metadata": {},
   "outputs": [],
   "source": [
    "SigWGAN = get_sigwgan_experiment_dir(G,\n",
    "                         x_real_rolled=x_real_rolled,\n",
    "                         test_metrics_train=test_metrics_train,\n",
    "                         test_metrics_test=test_metrics_test,\n",
    "                         **sigwgan_config\n",
    ")\n",
    "\n",
    "SigWGAN.fit(device=sigwgan_config['device'])"
   ]
  },
  {
   "cell_type": "code",
   "execution_count": null,
   "metadata": {},
   "outputs": [],
   "source": [
    "experiment_dir = get_sigwgan_experiment_dir(\"^GSPC\", \"LogSigRNN\", 'SigWGAN', 2024)\n",
    "loss_history = loss_history = os.path.join(experiment_dir, 'LossHistory')\n",
    "os.makedirs(loss_history, exist_ok=True)"
   ]
  },
  {
   "cell_type": "code",
   "execution_count": null,
   "metadata": {},
   "outputs": [],
   "source": [
    "plt.plot(SigWGAN.losses_history['sig_w1_loss'], alpha=0.8)\n",
    "plt.grid()\n",
    "plt.yscale('log')\n",
    "# plt.savefig(os.path.join(loss_history, 'sig_loss.png'))\n",
    "plt.close()"
   ]
  }
 ],
 "metadata": {
  "kernelspec": {
   "display_name": "siggan",
   "language": "python",
   "name": "python3"
  },
  "language_info": {
   "codemirror_mode": {
    "name": "ipython",
    "version": 3
   },
   "file_extension": ".py",
   "mimetype": "text/x-python",
   "name": "python",
   "nbconvert_exporter": "python",
   "pygments_lexer": "ipython3",
   "version": "3.8.18"
  }
 },
 "nbformat": 4,
 "nbformat_minor": 2
}
