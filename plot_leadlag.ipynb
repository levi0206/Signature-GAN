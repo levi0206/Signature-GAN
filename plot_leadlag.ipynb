{
 "cells": [
  {
   "cell_type": "code",
   "execution_count": 1,
   "metadata": {},
   "outputs": [],
   "source": [
    "import numpy as np\n",
    "import matplotlib.pyplot as plt"
   ]
  },
  {
   "cell_type": "code",
   "execution_count": 2,
   "metadata": {},
   "outputs": [],
   "source": [
    "# Input: X of shape (batch,length,n_channel)\n",
    "# Output: LeadLag(X)\n",
    "\n",
    "def leadlag(X: np.array):\n",
    "    X_repeat = np.repeat(X,axis=1,repeats=2)\n",
    "    leadlag = np.concatenate((X_repeat[:, :-1],X_repeat[:, 1:]),axis=2)\n",
    "    return leadlag"
   ]
  },
  {
   "cell_type": "code",
   "execution_count": 9,
   "metadata": {},
   "outputs": [
    {
     "name": "stdout",
     "output_type": "stream",
     "text": [
      "X shape: (4,)\n",
      "X reshape: (1, 4, 1)\n",
      "X_lead: \n",
      "[[[1]\n",
      "  [1]\n",
      "  [2]\n",
      "  [2]\n",
      "  [3]\n",
      "  [3]\n",
      "  [4]]]\n",
      "X_lag: \n",
      "[[[1]\n",
      "  [2]\n",
      "  [2]\n",
      "  [3]\n",
      "  [3]\n",
      "  [4]\n",
      "  [4]]]\n",
      "X leadlag shape: (1, 7, 2)\n"
     ]
    }
   ],
   "source": [
    "X = np.array([1,2,3,4])\n",
    "print(\"X shape: {}\".format(X.shape))\n",
    "\n",
    "X = np.reshape(X,[1,-1,1])\n",
    "print(\"X reshape: {}\".format(X.shape))\n",
    "\n",
    "X_lead = np.repeat(X,axis=1,repeats=2)[:,:-1]\n",
    "X_lag = np.repeat(X,axis=1,repeats=2)[:,1:]\n",
    "\n",
    "print(\"X_lead: \\n{}\".format(X_lead))\n",
    "print(\"X_lag: \\n{}\".format(X_lag))\n",
    "\n",
    "X_leadlag = leadlag(X)\n",
    "print(\"X leadlag shape: {}\".format(X_leadlag.shape))"
   ]
  }
 ],
 "metadata": {
  "kernelspec": {
   "display_name": "siggan",
   "language": "python",
   "name": "python3"
  },
  "language_info": {
   "codemirror_mode": {
    "name": "ipython",
    "version": 3
   },
   "file_extension": ".py",
   "mimetype": "text/x-python",
   "name": "python",
   "nbconvert_exporter": "python",
   "pygments_lexer": "ipython3",
   "version": "3.8.18"
  }
 },
 "nbformat": 4,
 "nbformat_minor": 2
}
